{
 "cells": [
  {
   "cell_type": "code",
   "execution_count": 142,
   "id": "amateur-satisfaction",
   "metadata": {},
   "outputs": [],
   "source": [
    "import pandas as pd"
   ]
  },
  {
   "cell_type": "code",
   "execution_count": 143,
   "id": "pharmaceutical-introduction",
   "metadata": {},
   "outputs": [],
   "source": [
    "train=pd.read_csv('train.csv')\n",
    "test=pd.read_csv('test.csv')"
   ]
  },
  {
   "cell_type": "code",
   "execution_count": 144,
   "id": "significant-yemen",
   "metadata": {},
   "outputs": [
    {
     "data": {
      "text/html": [
       "<div>\n",
       "<style scoped>\n",
       "    .dataframe tbody tr th:only-of-type {\n",
       "        vertical-align: middle;\n",
       "    }\n",
       "\n",
       "    .dataframe tbody tr th {\n",
       "        vertical-align: top;\n",
       "    }\n",
       "\n",
       "    .dataframe thead th {\n",
       "        text-align: right;\n",
       "    }\n",
       "</style>\n",
       "<table border=\"1\" class=\"dataframe\">\n",
       "  <thead>\n",
       "    <tr style=\"text-align: right;\">\n",
       "      <th></th>\n",
       "      <th>id</th>\n",
       "      <th>title</th>\n",
       "      <th>odometer</th>\n",
       "      <th>location</th>\n",
       "      <th>isimported</th>\n",
       "      <th>engine</th>\n",
       "      <th>transmission</th>\n",
       "      <th>fuel</th>\n",
       "      <th>paint</th>\n",
       "      <th>year</th>\n",
       "      <th>target</th>\n",
       "    </tr>\n",
       "  </thead>\n",
       "  <tbody>\n",
       "    <tr>\n",
       "      <th>0</th>\n",
       "      <td>0</td>\n",
       "      <td>Toyota RAV 4</td>\n",
       "      <td>18277</td>\n",
       "      <td>Lagos</td>\n",
       "      <td>Foreign Used</td>\n",
       "      <td>4-cylinder(I4)</td>\n",
       "      <td>automatic</td>\n",
       "      <td>petrol</td>\n",
       "      <td>Red</td>\n",
       "      <td>2016</td>\n",
       "      <td>13665000</td>\n",
       "    </tr>\n",
       "    <tr>\n",
       "      <th>1</th>\n",
       "      <td>1</td>\n",
       "      <td>Toyota Land Cruiser</td>\n",
       "      <td>10</td>\n",
       "      <td>Lagos</td>\n",
       "      <td>New</td>\n",
       "      <td>4-cylinder(I4)</td>\n",
       "      <td>automatic</td>\n",
       "      <td>petrol</td>\n",
       "      <td>Black</td>\n",
       "      <td>2019</td>\n",
       "      <td>33015000</td>\n",
       "    </tr>\n",
       "    <tr>\n",
       "      <th>2</th>\n",
       "      <td>2</td>\n",
       "      <td>Land Rover Range Rover Evoque</td>\n",
       "      <td>83091</td>\n",
       "      <td>Lagos</td>\n",
       "      <td>Foreign Used</td>\n",
       "      <td>6-cylinder(V6)</td>\n",
       "      <td>automatic</td>\n",
       "      <td>petrol</td>\n",
       "      <td>Red</td>\n",
       "      <td>2012</td>\n",
       "      <td>9915000</td>\n",
       "    </tr>\n",
       "    <tr>\n",
       "      <th>3</th>\n",
       "      <td>3</td>\n",
       "      <td>Lexus ES 350</td>\n",
       "      <td>91524</td>\n",
       "      <td>Lagos</td>\n",
       "      <td>Foreign Used</td>\n",
       "      <td>4-cylinder(I4)</td>\n",
       "      <td>automatic</td>\n",
       "      <td>petrol</td>\n",
       "      <td>Gray</td>\n",
       "      <td>2007</td>\n",
       "      <td>3815000</td>\n",
       "    </tr>\n",
       "    <tr>\n",
       "      <th>4</th>\n",
       "      <td>4</td>\n",
       "      <td>Toyota Venza</td>\n",
       "      <td>94177</td>\n",
       "      <td>Lagos</td>\n",
       "      <td>Foreign Used</td>\n",
       "      <td>6-cylinder(V6)</td>\n",
       "      <td>automatic</td>\n",
       "      <td>petrol</td>\n",
       "      <td>Red</td>\n",
       "      <td>2010</td>\n",
       "      <td>7385000</td>\n",
       "    </tr>\n",
       "  </tbody>\n",
       "</table>\n",
       "</div>"
      ],
      "text/plain": [
       "   id                          title  odometer location    isimported  \\\n",
       "0   0                   Toyota RAV 4     18277   Lagos   Foreign Used   \n",
       "1   1            Toyota Land Cruiser        10    Lagos          New    \n",
       "2   2  Land Rover Range Rover Evoque     83091    Lagos  Foreign Used   \n",
       "3   3                   Lexus ES 350     91524    Lagos  Foreign Used   \n",
       "4   4                   Toyota Venza     94177    Lagos  Foreign Used   \n",
       "\n",
       "           engine transmission    fuel  paint  year    target  \n",
       "0  4-cylinder(I4)    automatic  petrol    Red  2016  13665000  \n",
       "1  4-cylinder(I4)    automatic  petrol  Black  2019  33015000  \n",
       "2  6-cylinder(V6)    automatic  petrol    Red  2012   9915000  \n",
       "3  4-cylinder(I4)    automatic  petrol   Gray  2007   3815000  \n",
       "4  6-cylinder(V6)    automatic  petrol    Red  2010   7385000  "
      ]
     },
     "execution_count": 144,
     "metadata": {},
     "output_type": "execute_result"
    }
   ],
   "source": [
    "train.head()"
   ]
  },
  {
   "cell_type": "markdown",
   "id": "blond-geography",
   "metadata": {},
   "source": [
    "### Feature Engineering"
   ]
  },
  {
   "cell_type": "markdown",
   "id": "centered-centre",
   "metadata": {},
   "source": [
    "#### title"
   ]
  },
  {
   "cell_type": "code",
   "execution_count": 145,
   "id": "outer-police",
   "metadata": {},
   "outputs": [
    {
     "data": {
      "text/plain": [
       "array(['Toyota RAV 4', 'Toyota Land Cruiser',\n",
       "       'Land Rover Range Rover Evoque', 'Lexus ES 350', 'Toyota Venza',\n",
       "       'Toyota Corolla', 'Land Rover Range Rover Sport', 'Pontiac Vibe',\n",
       "       'Toyota Tacoma', 'Lexus RX 350', 'Ford Escape', 'Honda Civic',\n",
       "       'Volvo XC90', 'BMW 750', 'Infiniti JX', 'Honda Accord',\n",
       "       'Mercedes-Benz ML 350', 'Toyota Camry', 'Hyundai Azera',\n",
       "       'Lexus GX 460', 'BMW 325', 'Toyota Sienna', 'Honda Fit',\n",
       "       'Honda CR-V', 'Hyundai Tucson', 'Ford Transit', 'Jaguar XJ8',\n",
       "       'BMW X6', 'Mercedes-Benz C 300', 'Mitsubishi Galant',\n",
       "       'Mercedes-Benz GL 450', 'Lexus RX 300', 'Toyota Highlander',\n",
       "       'Mitsubishi CANTER PICK UP', 'Nissan Titan', 'Lexus IS 250',\n",
       "       'Mercedes-Benz 200', 'Toyota Sequoia', 'Ford Explorer',\n",
       "       'Hyundai ix35', 'Mack CH613 CONVENTIONAL CAB', 'Lexus CT 200h',\n",
       "       'Lexus LX 570', 'Toyota Avensis', 'Toyota 4-Runner',\n",
       "       'Mercedes-Benz GLE 350', 'Mercedes-Benz E 300', 'Toyota Avalon',\n",
       "       'Chevrolet Camaro', 'Mack CXN613 CAB BEHIND ENGINE',\n",
       "       'Land Rover Range Rover', 'Mazda CX-9', 'Lexus RX 330',\n",
       "       'Lincoln Mark', 'Kia Optima', 'Volkswagen LT', 'Lexus GS 300',\n",
       "       'Jaguar X-Type', 'Mercedes-Benz 709 DB', 'Nissan Altima',\n",
       "       'Acura MDX', 'DAF 95XF TRACTOR HEAD', 'Man TGA 18.360',\n",
       "       'Nissan Pathfinder', 'Mercedes-Benz E 350', 'Honda Crosstour',\n",
       "       'Honda Pilot', 'Lexus LS 460', 'Nissan Cabstar', 'Kia Sorento',\n",
       "       'Mercedes-Benz CLA 250', 'Mitsubishi Pajero',\n",
       "       'Mercedes-Benz C 350', 'Lexus GS 350', 'Mercedes-Benz E 320',\n",
       "       'Toyota Yaris', 'Toyota Matrix', 'Isuzu NQR', 'IVM LT35',\n",
       "       'Hyundai Elantra', 'Porsche Cayenne', 'Toyota Prado',\n",
       "       'Hyundai Sonata', 'MINI Cooper', 'Toyota Hiace',\n",
       "       'Mercedes-Benz 350', 'Honda Odyssey', 'Mercedes-Benz E 550',\n",
       "       'Dodge Charger', 'GMC Terrain', 'Mercedes-Benz GLK 350',\n",
       "       'Mercedes-Benz C 250', 'Mercedes-Benz ML 430', 'Mack CH613',\n",
       "       'Honda Element', 'Mercedes-Benz GLC 300', 'Hyundai Santa Fe',\n",
       "       'Kia Cerato', 'Chevrolet Evanda', 'Iveco TRUCK', 'Acura ZDX',\n",
       "       'Mercedes-Benz 450', 'Mercedes-Benz GLA 250',\n",
       "       'Mercedes-Benz CLS 500', 'Scania P94 FLATBED', 'Nissan Versa',\n",
       "       'Ford F 150', 'Mercedes-Benz GLE 43 AMG', 'Volkswagen Golf',\n",
       "       'Mercedes-Benz 320', 'Honda Ridgeline', 'Mercedes-Benz S 450',\n",
       "       'Mercedes-Benz 300', 'Kia Rio', 'BMW 740', 'Ford Edge',\n",
       "       'Toyota Dyna', 'Volvo FL6', 'Toyota Coaster', 'GAC Gonow Other',\n",
       "       'IVECO EUROTECH 7.50E-16', 'DAF FA 55. 180', 'Scania TRACTOR HEAD',\n",
       "       'Nissan Xterra', 'Mercedes-Benz ML 320', 'Mercedes-Benz ATEGO',\n",
       "       'Ford Focus', 'Mercedes-Benz 220', 'Man Truck 18.44', 'BMW 730',\n",
       "       'Peugeot 607', 'BMW 528', 'Volvo XC60', 'Mercedes-Benz E 200',\n",
       "       'Volkswagen Passat', 'Volkswagen Sharan', 'Lexus GX 470',\n",
       "       'Nissan Quest', 'Nissan Maxima', 'Lexus ES 300', 'Mazda Tribute',\n",
       "       'Ford Fusion', 'Acura RDX', 'Peugeot 206',\n",
       "       'Mercedes-Benz G 63 AMG', 'Toyota Hilux', 'Kia Stinger',\n",
       "       'Volkswagen Tiguan', 'Acura TL', 'Porsche Panamera',\n",
       "       'Rolls-Royce Ghost', 'BMW 745', 'BMW 335', 'Volkswagen Jetta',\n",
       "       'Mack R-686ST', 'Man Diesel 19.314 FILT-N', 'Toyota Solara',\n",
       "       'Kia Soul', 'Mercedes-Benz C 450 AMG', 'Mack CXN613',\n",
       "       'Nissan Murano', 'Chevrolet Traverse', 'Volkswagen T4 Caravelle',\n",
       "       'MAN-VOLKSWAGEN FLATBED', 'Nissan Frontier', 'Nissan X-Trail',\n",
       "       'Mercedes-Benz C 180', 'Infiniti M35', 'Nissan Sentra',\n",
       "       'Jeep Cherokee', 'Toyota DYNA 200', 'Nissan Rogue',\n",
       "       'Land Rover Range Rover Velar', 'ALPINA B3', 'DAF 45', 'Mazda 323',\n",
       "       'Volkswagen T6 other', 'Bentley Arnage', 'Mazda 6', 'Infiniti FX',\n",
       "       'Ford Expedition', 'Mercedes-Benz 814', 'Kia Picanto',\n",
       "       'Toyota Tundra', 'JMC Vigus', 'Infiniti QX80', 'Volvo FH12',\n",
       "       'Mercedes-Benz/52', 'Volkswagen Touareg', 'Porsche Macan',\n",
       "       'Peugeot 308', 'Nissan INFINITI M90.150/2',\n",
       "       'MINI Cooper Countryman', 'Lexus ES 330', 'Honda Insight',\n",
       "       'Toyota Vitz', 'Audi S6', 'Isuzu CABSTER',\n",
       "       'Mercedes-Benz C 63 AMG', 'Mercedes-Benz SL 400',\n",
       "       'Volkswagen 17.22', 'Man BOCKMANN', 'DAF CF'], dtype=object)"
      ]
     },
     "execution_count": 145,
     "metadata": {},
     "output_type": "execute_result"
    }
   ],
   "source": [
    "train['title'].unique()"
   ]
  },
  {
   "cell_type": "markdown",
   "id": "objective-verification",
   "metadata": {},
   "source": [
    "odometer-주행거리\\\n",
    "isimported-수입여부"
   ]
  },
  {
   "cell_type": "code",
   "execution_count": 146,
   "id": "three-prefix",
   "metadata": {},
   "outputs": [
    {
     "name": "stdout",
     "output_type": "stream",
     "text": [
      "['Toyota' 'Land' 'Lexus' 'Pontiac' 'Ford' 'Honda' 'Volvo' 'BMW' 'Infiniti'\n",
      " 'Mercedes-Benz' 'Hyundai' 'Jaguar' 'Mitsubishi' 'Nissan' 'Mack'\n",
      " 'Chevrolet' 'Mazda' 'Lincoln' 'Kia' 'Volkswagen' 'Acura' 'DAF' 'Man'\n",
      " 'Isuzu' 'IVM' 'Porsche' 'MINI' 'Dodge' 'GMC' 'Iveco' 'Scania' 'GAC'\n",
      " 'IVECO' 'Peugeot' 'Rolls-Royce' 'MAN-VOLKSWAGEN' 'Jeep' 'ALPINA'\n",
      " 'Bentley' 'JMC' 'Mercedes-Benz/52' 'Audi']\n"
     ]
    }
   ],
   "source": [
    "comp=[]\n",
    "for i in range(len(train)):\n",
    "    comp.append(train['title'][i].split()[0])\n",
    "train['comp']=comp\n",
    "print(train['comp'].unique())"
   ]
  },
  {
   "cell_type": "code",
   "execution_count": 147,
   "id": "hybrid-cabin",
   "metadata": {},
   "outputs": [
    {
     "name": "stdout",
     "output_type": "stream",
     "text": [
      "827    Mercedes-Benz/52\n",
      "Name: comp, dtype: object\n",
      "['Toyota' 'Land' 'Lexus' 'Pontiac' 'Ford' 'Honda' 'Volvo' 'BMW' 'Infiniti'\n",
      " 'Mercedes-Benz' 'Hyundai' 'Jaguar' 'Mitsubishi' 'Nissan' 'Mack'\n",
      " 'Chevrolet' 'Mazda' 'Lincoln' 'Kia' 'Volkswagen' 'Acura' 'DAF' 'Man'\n",
      " 'Isuzu' 'IVM' 'Porsche' 'MINI' 'Dodge' 'GMC' 'Iveco' 'Scania' 'GAC'\n",
      " 'IVECO' 'Peugeot' 'Rolls-Royce' 'MAN-VOLKSWAGEN' 'Jeep' 'ALPINA'\n",
      " 'Bentley' 'JMC' 'Audi']\n"
     ]
    },
    {
     "name": "stderr",
     "output_type": "stream",
     "text": [
      "C:\\Users\\tnqls\\anaconda3\\lib\\site-packages\\pandas\\core\\indexing.py:671: SettingWithCopyWarning: \n",
      "A value is trying to be set on a copy of a slice from a DataFrame\n",
      "\n",
      "See the caveats in the documentation: https://pandas.pydata.org/pandas-docs/stable/user_guide/indexing.html#returning-a-view-versus-a-copy\n",
      "  self._setitem_with_indexer(indexer, value)\n"
     ]
    }
   ],
   "source": [
    "#Mercedes-Benz/52 /52제거\n",
    "print(train[train['comp']=='Mercedes-Benz/52']['comp'])\n",
    "train['comp'].iloc[827]='Mercedes-Benz'\n",
    "print(train['comp'].unique())"
   ]
  },
  {
   "cell_type": "code",
   "execution_count": 148,
   "id": "peripheral-damages",
   "metadata": {},
   "outputs": [],
   "source": [
    "comp=[]\n",
    "for i in range(len(test)):\n",
    "    comp.append(test['title'][i].split()[0])\n",
    "test['comp']=comp"
   ]
  },
  {
   "cell_type": "code",
   "execution_count": 149,
   "id": "beginning-portable",
   "metadata": {},
   "outputs": [
    {
     "data": {
      "text/plain": [
       "array(['Mercedes-Benz', 'Honda', 'Toyota', 'Iveco', 'Lexus', 'Nissan',\n",
       "       'Volkswagen', 'Jeep', 'Ford', 'BMW', 'Mack', 'Land', 'Hyundai',\n",
       "       'Peugeot', 'Volvo', 'Infiniti', 'Acura', 'Man', 'Fiat', 'MINI',\n",
       "       'DAF', 'Mazda', 'Porsche', 'Mitsubishi', 'Chevrolet', 'Kia',\n",
       "       'Pontiac', 'Rolls-Royce'], dtype=object)"
      ]
     },
     "execution_count": 149,
     "metadata": {},
     "output_type": "execute_result"
    }
   ],
   "source": [
    "test['comp'].unique()"
   ]
  },
  {
   "cell_type": "markdown",
   "id": "constant-latex",
   "metadata": {},
   "source": [
    "#### odometer"
   ]
  },
  {
   "cell_type": "code",
   "execution_count": 150,
   "id": "described-arctic",
   "metadata": {},
   "outputs": [
    {
     "data": {
      "text/plain": [
       "(array([530., 354.,  92.,  19.,   4.,   4.,   4.,   5.,   2.,   1.]),\n",
       " array([     0. ,  98732.2, 197464.4, 296196.6, 394928.8, 493661. ,\n",
       "        592393.2, 691125.4, 789857.6, 888589.8, 987322. ]),\n",
       " <a list of 10 Patch objects>)"
      ]
     },
     "execution_count": 150,
     "metadata": {},
     "output_type": "execute_result"
    },
    {
     "data": {
      "image/png": "[encoded data removed]",
      "text/plain": [
       "<Figure size 432x288 with 1 Axes>"
      ]
     },
     "metadata": {
      "needs_background": "light"
     },
     "output_type": "display_data"
    }
   ],
   "source": [
    "import matplotlib.pyplot as plt\n",
    "plt.hist(train['odometer']) #한쪽으로 치우쳐져 있음"
   ]
  },
  {
   "cell_type": "code",
   "execution_count": 151,
   "id": "sixth-fossil",
   "metadata": {},
   "outputs": [
    {
     "data": {
      "text/plain": [
       "{'whiskers': [<matplotlib.lines.Line2D at 0x258d595ab20>,\n",
       "  <matplotlib.lines.Line2D at 0x258d595aeb0>],\n",
       " 'caps': [<matplotlib.lines.Line2D at 0x258d5966250>,\n",
       "  <matplotlib.lines.Line2D at 0x258d59665b0>],\n",
       " 'boxes': [<matplotlib.lines.Line2D at 0x258d595a7c0>],\n",
       " 'medians': [<matplotlib.lines.Line2D at 0x258d5966910>],\n",
       " 'fliers': [<matplotlib.lines.Line2D at 0x258d5966c10>],\n",
       " 'means': []}"
      ]
     },
     "execution_count": 151,
     "metadata": {},
     "output_type": "execute_result"
    },
    {
     "data": {
      "image/png": "[encoded data removed]",
      "text/plain": [
       "<Figure size 432x288 with 1 Axes>"
      ]
     },
     "metadata": {
      "needs_background": "light"
     },
     "output_type": "display_data"
    }
   ],
   "source": [
    "plt.boxplot(train['odometer']) #이상치가 많음."
   ]
  },
  {
   "cell_type": "code",
   "execution_count": 152,
   "id": "flush-information",
   "metadata": {},
   "outputs": [
    {
     "name": "stdout",
     "output_type": "stream",
     "text": [
      "큰 이상치: 37\n",
      "작은 이상치: 0\n"
     ]
    }
   ],
   "source": [
    "IQR=abs(train['odometer'].quantile(0.75)-train['odometer'].quantile(0.25))\n",
    "print('큰 이상치:',len(train[train['odometer']>(train['odometer'].quantile(0.75)+(1.5*IQR))]))\n",
    "print('작은 이상치:',len(train[train['odometer']<(train['odometer'].quantile(0.25)-(1.5*IQR))]))\n",
    "#제거대상"
   ]
  },
  {
   "cell_type": "code",
   "execution_count": 153,
   "id": "tribal-magnet",
   "metadata": {},
   "outputs": [],
   "source": [
    "train=train[train['odometer']<(train['odometer'].quantile(0.75)+(1.5*IQR))]"
   ]
  },
  {
   "cell_type": "code",
   "execution_count": 154,
   "id": "standard-disaster",
   "metadata": {},
   "outputs": [
    {
     "data": {
      "text/plain": [
       "297333"
      ]
     },
     "execution_count": 154,
     "metadata": {},
     "output_type": "execute_result"
    }
   ],
   "source": [
    "max(train['odometer'])"
   ]
  },
  {
   "cell_type": "code",
   "execution_count": 155,
   "id": "suitable-russian",
   "metadata": {},
   "outputs": [
    {
     "data": {
      "text/plain": [
       "(array([145., 126., 195., 162., 116.,  88.,  73.,  38.,  21.,  14.]),\n",
       " array([     0. ,  29733.3,  59466.6,  89199.9, 118933.2, 148666.5,\n",
       "        178399.8, 208133.1, 237866.4, 267599.7, 297333. ]),\n",
       " <a list of 10 Patch objects>)"
      ]
     },
     "execution_count": 155,
     "metadata": {},
     "output_type": "execute_result"
    },
    {
     "data": {
      "image/png": "[encoded data removed]",
      "text/plain": [
       "<Figure size 432x288 with 1 Axes>"
      ]
     },
     "metadata": {
      "needs_background": "light"
     },
     "output_type": "display_data"
    }
   ],
   "source": [
    "plt.hist(train['odometer']) #덜치우쳐보임"
   ]
  },
  {
   "cell_type": "code",
   "execution_count": 156,
   "id": "greatest-decade",
   "metadata": {},
   "outputs": [
    {
     "data": {
      "text/html": [
       "<div>\n",
       "<style scoped>\n",
       "    .dataframe tbody tr th:only-of-type {\n",
       "        vertical-align: middle;\n",
       "    }\n",
       "\n",
       "    .dataframe tbody tr th {\n",
       "        vertical-align: top;\n",
       "    }\n",
       "\n",
       "    .dataframe thead th {\n",
       "        text-align: right;\n",
       "    }\n",
       "</style>\n",
       "<table border=\"1\" class=\"dataframe\">\n",
       "  <thead>\n",
       "    <tr style=\"text-align: right;\">\n",
       "      <th></th>\n",
       "      <th>id</th>\n",
       "      <th>odometer</th>\n",
       "      <th>year</th>\n",
       "      <th>target</th>\n",
       "    </tr>\n",
       "  </thead>\n",
       "  <tbody>\n",
       "    <tr>\n",
       "      <th>count</th>\n",
       "      <td>978.000000</td>\n",
       "      <td>978.000000</td>\n",
       "      <td>978.000000</td>\n",
       "      <td>9.780000e+02</td>\n",
       "    </tr>\n",
       "    <tr>\n",
       "      <th>mean</th>\n",
       "      <td>508.229039</td>\n",
       "      <td>102486.519427</td>\n",
       "      <td>2010.197342</td>\n",
       "      <td>8.308666e+06</td>\n",
       "    </tr>\n",
       "    <tr>\n",
       "      <th>std</th>\n",
       "      <td>292.583251</td>\n",
       "      <td>66616.912421</td>\n",
       "      <td>5.341071</td>\n",
       "      <td>1.239202e+07</td>\n",
       "    </tr>\n",
       "    <tr>\n",
       "      <th>min</th>\n",
       "      <td>0.000000</td>\n",
       "      <td>0.000000</td>\n",
       "      <td>1982.000000</td>\n",
       "      <td>4.000000e+05</td>\n",
       "    </tr>\n",
       "    <tr>\n",
       "      <th>25%</th>\n",
       "      <td>258.250000</td>\n",
       "      <td>54404.500000</td>\n",
       "      <td>2007.000000</td>\n",
       "      <td>2.621250e+06</td>\n",
       "    </tr>\n",
       "    <tr>\n",
       "      <th>50%</th>\n",
       "      <td>508.500000</td>\n",
       "      <td>92424.000000</td>\n",
       "      <td>2010.000000</td>\n",
       "      <td>4.317500e+06</td>\n",
       "    </tr>\n",
       "    <tr>\n",
       "      <th>75%</th>\n",
       "      <td>760.750000</td>\n",
       "      <td>145218.500000</td>\n",
       "      <td>2014.000000</td>\n",
       "      <td>8.940000e+06</td>\n",
       "    </tr>\n",
       "    <tr>\n",
       "      <th>max</th>\n",
       "      <td>1014.000000</td>\n",
       "      <td>297333.000000</td>\n",
       "      <td>2020.000000</td>\n",
       "      <td>1.500150e+08</td>\n",
       "    </tr>\n",
       "  </tbody>\n",
       "</table>\n",
       "</div>"
      ],
      "text/plain": [
       "                id       odometer         year        target\n",
       "count   978.000000     978.000000   978.000000  9.780000e+02\n",
       "mean    508.229039  102486.519427  2010.197342  8.308666e+06\n",
       "std     292.583251   66616.912421     5.341071  1.239202e+07\n",
       "min       0.000000       0.000000  1982.000000  4.000000e+05\n",
       "25%     258.250000   54404.500000  2007.000000  2.621250e+06\n",
       "50%     508.500000   92424.000000  2010.000000  4.317500e+06\n",
       "75%     760.750000  145218.500000  2014.000000  8.940000e+06\n",
       "max    1014.000000  297333.000000  2020.000000  1.500150e+08"
      ]
     },
     "execution_count": 156,
     "metadata": {},
     "output_type": "execute_result"
    }
   ],
   "source": [
    "train.describe()"
   ]
  },
  {
   "cell_type": "code",
   "execution_count": 157,
   "id": "appreciated-employee",
   "metadata": {},
   "outputs": [],
   "source": [
    "# 구간 나누는 지점 설정\n",
    "bins = list([0, 66616, 92424, 145218, 297334])\n",
    "# 구간 이름\n",
    "bins_label = [1,2,3,4,5]\n",
    "train[\"odometer_level\"] = pd.cut(train[\"odometer\"], bins, right=False, labels=bins_label[:-1])\n",
    "test[\"odometer_level\"] = pd.cut(test[\"odometer\"], bins, right=False, labels=bins_label[:-1])"
   ]
  },
  {
   "cell_type": "code",
   "execution_count": 158,
   "id": "specified-cylinder",
   "metadata": {},
   "outputs": [],
   "source": [
    "del train ['odometer']\n",
    "del test ['odometer']"
   ]
  },
  {
   "cell_type": "code",
   "execution_count": null,
   "id": "delayed-showcase",
   "metadata": {},
   "outputs": [],
   "source": []
  },
  {
   "cell_type": "markdown",
   "id": "finnish-handy",
   "metadata": {},
   "source": [
    "#### location"
   ]
  },
  {
   "cell_type": "code",
   "execution_count": 159,
   "id": "adapted-footwear",
   "metadata": {},
   "outputs": [
    {
     "data": {
      "text/plain": [
       "array(['Lagos ', 'Lagos', 'Abuja', 'Lagos State', 'Ogun', 'FCT', 'Accra',\n",
       "       'other', 'Abuja ', 'Abia State', 'Adamawa ', 'Abia', 'Ogun State'],\n",
       "      dtype=object)"
      ]
     },
     "execution_count": 159,
     "metadata": {},
     "output_type": "execute_result"
    }
   ],
   "source": [
    "train['location'].unique()"
   ]
  },
  {
   "cell_type": "code",
   "execution_count": 160,
   "id": "third-thesis",
   "metadata": {},
   "outputs": [
    {
     "data": {
      "text/plain": [
       "array(['Abuja', 'Lagos', 'Lagos ', 'Ogun', 'Mushin', 'Lagos State',\n",
       "       'other', 'Abuja ', 'Arepo ogun state ', 'Ogun State', 'Abia'],\n",
       "      dtype=object)"
      ]
     },
     "execution_count": 160,
     "metadata": {},
     "output_type": "execute_result"
    }
   ],
   "source": [
    "test['location'].unique()"
   ]
  },
  {
   "cell_type": "code",
   "execution_count": 161,
   "id": "intimate-journey",
   "metadata": {},
   "outputs": [],
   "source": [
    "train['location'].unique() #Lagos에서 띄어쓰기 제거해주기\n",
    "train.replace('Lagos ','Lagos',inplace=True)\n",
    "train.replace('Abuja ','Abuja',inplace=True)\n",
    "train.replace('Lagos State','Lagos',inplace=True)\n",
    "train.replace('Abuja State','Abuja',inplace=True)\n",
    "train.replace('Abia State','Abia',inplace=True)\n",
    "train.replace('Ogun State','Ogun',inplace=True)"
   ]
  },
  {
   "cell_type": "code",
   "execution_count": 162,
   "id": "administrative-moore",
   "metadata": {},
   "outputs": [],
   "source": [
    "test['location'].unique() #Lagos띄어쓰기, Abuja띄어쓰기\n",
    "test.replace('Lagos ','Lagos',inplace=True)\n",
    "test.replace('Abuja ','Abuja',inplace=True)\n",
    "test.replace('Lagos State','Lagos',inplace=True)\n",
    "test.replace('Abuja State','Abuja',inplace=True)\n",
    "test.replace('Ogun State','Ogun',inplace=True)\n",
    "test.replace('Arepo ogun state ','Ogun',inplace=True)\n",
    "test.replace('Mushin','other',inplace=True) #하나 있길래 그냥 other로"
   ]
  },
  {
   "cell_type": "code",
   "execution_count": 163,
   "id": "registered-camera",
   "metadata": {},
   "outputs": [
    {
     "name": "stdout",
     "output_type": "stream",
     "text": [
      "train: ['Lagos' 'Abuja' 'Ogun' 'FCT' 'Accra' 'other' 'Abia' 'Adamawa ']\n",
      "test: ['Abuja' 'Lagos' 'Ogun' 'other' 'Abia']\n"
     ]
    }
   ],
   "source": [
    "print('train:',train['location'].unique())\n",
    "print('test:',test['location'].unique())"
   ]
  },
  {
   "cell_type": "code",
   "execution_count": 164,
   "id": "caroline-challenge",
   "metadata": {},
   "outputs": [
    {
     "data": {
      "text/plain": [
       "<BarContainer object of 8 artists>"
      ]
     },
     "execution_count": 164,
     "metadata": {},
     "output_type": "execute_result"
    },
    {
     "data": {
      "image/png": "[encoded data removed]",
      "text/plain": [
       "<Figure size 432x288 with 1 Axes>"
      ]
     },
     "metadata": {
      "needs_background": "light"
     },
     "output_type": "display_data"
    }
   ],
   "source": [
    "lo=train.groupby(train['location'])['id'].count()\n",
    "plt.bar(lo.index,lo)"
   ]
  },
  {
   "cell_type": "code",
   "execution_count": 165,
   "id": "comparative-yacht",
   "metadata": {},
   "outputs": [
    {
     "data": {
      "text/plain": [
       "<BarContainer object of 7 artists>"
      ]
     },
     "execution_count": 165,
     "metadata": {},
     "output_type": "execute_result"
    },
    {
     "data": {
      "image/png": "[encoded data removed]",
      "text/plain": [
       "<Figure size 432x288 with 1 Axes>"
      ]
     },
     "metadata": {
      "needs_background": "light"
     },
     "output_type": "display_data"
    }
   ],
   "source": [
    "lo=test.groupby(train['location'])['id'].count()\n",
    "plt.bar(lo.index,lo)"
   ]
  },
  {
   "cell_type": "markdown",
   "id": "laden-error",
   "metadata": {},
   "source": [
    "#### isimported"
   ]
  },
  {
   "cell_type": "code",
   "execution_count": 166,
   "id": "allied-mortality",
   "metadata": {},
   "outputs": [
    {
     "data": {
      "text/plain": [
       "<BarContainer object of 3 artists>"
      ]
     },
     "execution_count": 166,
     "metadata": {},
     "output_type": "execute_result"
    },
    {
     "data": {
      "image/png": "[encoded data removed]",
      "text/plain": [
       "<Figure size 432x288 with 1 Axes>"
      ]
     },
     "metadata": {
      "needs_background": "light"
     },
     "output_type": "display_data"
    }
   ],
   "source": [
    "im=train.groupby(train['isimported'])['id'].count()\n",
    "plt.bar(im.index,im)"
   ]
  },
  {
   "cell_type": "code",
   "execution_count": 167,
   "id": "blond-admission",
   "metadata": {},
   "outputs": [
    {
     "data": {
      "text/plain": [
       "<BarContainer object of 3 artists>"
      ]
     },
     "execution_count": 167,
     "metadata": {},
     "output_type": "execute_result"
    },
    {
     "data": {
      "image/png": "[encoded data removed]",
      "text/plain": [
       "<Figure size 432x288 with 1 Axes>"
      ]
     },
     "metadata": {
      "needs_background": "light"
     },
     "output_type": "display_data"
    }
   ],
   "source": [
    "im=test.groupby(test['isimported'])['id'].count()\n",
    "plt.bar(im.index,im)"
   ]
  },
  {
   "cell_type": "markdown",
   "id": "optical-indiana",
   "metadata": {},
   "source": [
    "#### engine"
   ]
  },
  {
   "cell_type": "code",
   "execution_count": 168,
   "id": "governmental-commercial",
   "metadata": {},
   "outputs": [
    {
     "name": "stdout",
     "output_type": "stream",
     "text": [
      "train: ['4-cylinder(I4)' '6-cylinder(V6)' '8-cylinder(V8)' '6-cylinder(I6)'\n",
      " '4-cylinder(H4)' '5-cylinder(I5)' '3-cylinder(I3)' '2-cylinder(I2)']\n",
      "test: ['4-cylinder(I4)' '6-cylinder(V6)' '6-cylinder(I6)' '8-cylinder(V8)'\n",
      " '5-cylinder(I5)' '2-cylinder(I2)' '12-cylinder(V12)' '3-cylinder(I3)']\n"
     ]
    }
   ],
   "source": [
    "print('train:',train['engine'].unique())\n",
    "print('test:',test['engine'].unique())"
   ]
  },
  {
   "cell_type": "markdown",
   "id": "julian-beach",
   "metadata": {},
   "source": [
    "#### transmission 변속기"
   ]
  },
  {
   "cell_type": "code",
   "execution_count": 169,
   "id": "incredible-range",
   "metadata": {},
   "outputs": [
    {
     "name": "stdout",
     "output_type": "stream",
     "text": [
      "['automatic' 'manual']\n",
      "['automatic' 'manual']\n"
     ]
    }
   ],
   "source": [
    "print(train['transmission'].unique())\n",
    "print(test['transmission'].unique())"
   ]
  },
  {
   "cell_type": "markdown",
   "id": "particular-veteran",
   "metadata": {},
   "source": [
    "#### fua;"
   ]
  },
  {
   "cell_type": "code",
   "execution_count": 170,
   "id": "objective-lebanon",
   "metadata": {},
   "outputs": [
    {
     "name": "stdout",
     "output_type": "stream",
     "text": [
      "['petrol' 'diesel']\n",
      "['petrol' 'diesel']\n"
     ]
    }
   ],
   "source": [
    "print(train['fuel'].unique())\n",
    "print(test['fuel'].unique())"
   ]
  },
  {
   "cell_type": "markdown",
   "id": "enclosed-april",
   "metadata": {},
   "source": [
    "#### paint"
   ]
  },
  {
   "cell_type": "code",
   "execution_count": 171,
   "id": "adolescent-maple",
   "metadata": {},
   "outputs": [
    {
     "name": "stdout",
     "output_type": "stream",
     "text": [
      "['Red' 'Black' 'Gray' 'White' 'Blue' 'Redl' 'Silver' ' Black/Red'\n",
      " 'Deep Blue' 'Dark Grey' 'Brown' 'Grey' 'Green' 'Purple' 'Gold'\n",
      " 'Dark Blue' 'Milk' 'Midnight Black Metal' 'green' 'Beige' 'Blue '\n",
      " 'Silver ' 'Dark Ash' 'Black ' 'orange' 'Cream' 'blue' 'white' 'Dark gray'\n",
      " 'White orchild pearl' 'red' 'Dark Green' 'Yellow' 'Sliver' 'White '\n",
      " 'Wine' 'white-blue' 'Magnetic Gray' 'WHITE' 'yellow' 'Gray '\n",
      " 'Dark silver ' 'Dark blue ' 'Gold ' 'SILVER' 'Black.' 'WINE'\n",
      " 'Silver/grey' 'Ink blue' 'Light blue' 'Sky blue' 'Gery' 'Pale brown'\n",
      " 'Whine ' 'Cream ' 'Black and silver' 'DARK GREY' 'Grey ' 'Dark ash'\n",
      " 'Light silver ' 'BLACK' 'GOLD' 'Black sand pearl' 'Off white' 'Ash'\n",
      " 'Maroon' 'Navy blue' 'Super White' ' Black' 'Ash and black' 'Green '\n",
      " 'Magnetic Gray Metallic' 'Skye blue' 'Off white l']\n",
      "['White' 'Black' 'Dark Grey' 'Red' 'Silver' 'white' 'Blue' 'Gray' 'Grey'\n",
      " 'Gold' 'Green' 'Silver ' 'Sliver ' 'Gold ' 'Black ' 'Cream' 'Brown'\n",
      " 'black' 'Yellow' 'Cream ' 'Dark Green' 'White and green' 'Grey '\n",
      " 'Light Grey' 'Maroon' 'Wine' 'Ash' 'GOLD' 'Blac' 'Dark Blue' 'Dark Ash'\n",
      " 'green' 'Sliver' 'Golf' 'BLACK' 'Dark blue ' 'Blue ' 'blue' 'Navy blue'\n",
      " 'Indigo ink pearl' '  Brown' 'Grey and black' 'Green '\n",
      " 'Classic Silver Met(1F7)' 'Beige' 'Mint green']\n"
     ]
    }
   ],
   "source": [
    "print(train['paint'].unique())\n",
    "print(test['paint'].unique())"
   ]
  },
  {
   "cell_type": "code",
   "execution_count": 172,
   "id": "interested-tourist",
   "metadata": {},
   "outputs": [
    {
     "name": "stderr",
     "output_type": "stream",
     "text": [
      "C:\\Users\\tnqls\\anaconda3\\lib\\site-packages\\pandas\\core\\indexing.py:671: SettingWithCopyWarning: \n",
      "A value is trying to be set on a copy of a slice from a DataFrame\n",
      "\n",
      "See the caveats in the documentation: https://pandas.pydata.org/pandas-docs/stable/user_guide/indexing.html#returning-a-view-versus-a-copy\n",
      "  self._setitem_with_indexer(indexer, value)\n"
     ]
    }
   ],
   "source": [
    "for i in range(len(train)):\n",
    "    train['paint'].iloc[i]=train['paint'].iloc[i].rstrip() \n",
    "    train['paint'].iloc[i]=train['paint'].iloc[i].lstrip() \n",
    "    train['paint'].iloc[i]=train['paint'].iloc[i].lower() \n",
    "for i in range(len(test)):\n",
    "    test['paint'].iloc[i]=test['paint'].iloc[i].rstrip() \n",
    "    test['paint'].iloc[i]=test['paint'].iloc[i].lstrip() \n",
    "    test['paint'].iloc[i]=test['paint'].iloc[i].lower() "
   ]
  },
  {
   "cell_type": "code",
   "execution_count": 173,
   "id": "small-account",
   "metadata": {},
   "outputs": [
    {
     "name": "stdout",
     "output_type": "stream",
     "text": [
      "white and green\n",
      "light grey\n",
      "blac\n",
      "golf\n",
      "indigo ink pearl\n",
      "grey and black\n",
      "classic silver met(1f7)\n",
      "mint green\n"
     ]
    }
   ],
   "source": [
    "a=train['paint'].unique()\n",
    "b=test['paint'].unique()\n",
    "for i in b:\n",
    "    if i not in a:\n",
    "        print(i)"
   ]
  },
  {
   "cell_type": "code",
   "execution_count": 174,
   "id": "facial-legislature",
   "metadata": {},
   "outputs": [],
   "source": [
    "test['paint'].replace('white and green','white',inplace=True)\n",
    "test['paint'].replace('light grey','grey',inplace=True)\n",
    "test['paint'].replace('blac','black',inplace=True)\n",
    "test['paint'].replace('golf','gold',inplace=True)\n",
    "test['paint'].replace('indigo ink pearl','ink blue',inplace=True)\n",
    "test['paint'].replace('grey and black','grey',inplace=True)\n",
    "test['paint'].replace('classic silver met(1f7)','silver',inplace=True)\n",
    "test['paint'].replace('mint green','green',inplace=True)"
   ]
  },
  {
   "cell_type": "code",
   "execution_count": 175,
   "id": "fundamental-travel",
   "metadata": {},
   "outputs": [],
   "source": [
    "a=train['paint'].unique()\n",
    "b=test['paint'].unique()\n",
    "for i in b:\n",
    "    if i not in a:\n",
    "        print(i)"
   ]
  },
  {
   "cell_type": "code",
   "execution_count": 176,
   "id": "signed-backup",
   "metadata": {},
   "outputs": [],
   "source": [
    "train['paint'].replace('grey','gray',inplace=True)\n",
    "train['paint'].replace('redl','red',inplace=True)\n",
    "train['paint'].replace('gery','gray',inplace=True)\n",
    "train['paint'].replace('skye blue','sky blue',inplace=True)\n",
    "train['paint'].replace('maroon','wine',inplace=True)\n",
    "train['paint'].replace('whine','wine',inplace=True)\n",
    "train['paint'].replace('off white l','white',inplace=True)\n",
    "test['paint'].replace('grey','gray',inplace=True)\n",
    "test['paint'].replace('redl','red',inplace=True)\n",
    "test['paint'].replace('gery','gray',inplace=True)\n",
    "test['paint'].replace('skye blue','sky blue',inplace=True)\n",
    "test['paint'].replace('maroon','wine',inplace=True)\n",
    "test['paint'].replace('whine','wine',inplace=True)\n",
    "test['paint'].replace('off white l','white',inplace=True)"
   ]
  },
  {
   "cell_type": "code",
   "execution_count": 177,
   "id": "aggressive-ghost",
   "metadata": {},
   "outputs": [],
   "source": [
    "test['paint'].replace('grey','gray',inplace=True)\n",
    "test['paint'].replace('redl','red',inplace=True)\n",
    "test['paint'].replace('gery','gray',inplace=True)\n",
    "test['paint'].replace('skye blue','sky blue',inplace=True)\n",
    "test['paint'].replace('maroon','wine',inplace=True)\n",
    "test['paint'].replace('whine','wine',inplace=True)\n",
    "test['paint'].replace('off white l','white',inplace=True)"
   ]
  },
  {
   "cell_type": "code",
   "execution_count": 178,
   "id": "common-church",
   "metadata": {},
   "outputs": [
    {
     "data": {
      "text/plain": [
       "array(['red', 'black', 'gray', 'white', 'blue', 'silver', 'black/red',\n",
       "       'deep blue', 'dark grey', 'brown', 'green', 'purple', 'gold',\n",
       "       'dark blue', 'milk', 'midnight black metal', 'beige', 'dark ash',\n",
       "       'orange', 'cream', 'dark gray', 'white orchild pearl',\n",
       "       'dark green', 'yellow', 'sliver', 'wine', 'white-blue',\n",
       "       'magnetic gray', 'dark silver', 'black.', 'silver/grey',\n",
       "       'ink blue', 'light blue', 'sky blue', 'pale brown',\n",
       "       'black and silver', 'light silver', 'black sand pearl',\n",
       "       'off white', 'ash', 'navy blue', 'super white', 'ash and black',\n",
       "       'magnetic gray metallic'], dtype=object)"
      ]
     },
     "execution_count": 178,
     "metadata": {},
     "output_type": "execute_result"
    }
   ],
   "source": [
    "train['paint'].unique()"
   ]
  },
  {
   "cell_type": "markdown",
   "id": "integral-essex",
   "metadata": {},
   "source": [
    "#### target"
   ]
  },
  {
   "cell_type": "code",
   "execution_count": 179,
   "id": "selected-memphis",
   "metadata": {},
   "outputs": [
    {
     "data": {
      "text/plain": [
       "(array([858.,  74.,  18.,  19.,   5.,   0.,   0.,   3.,   0.,   1.]),\n",
       " array([4.00000000e+05, 1.53615008e+07, 3.03230016e+07, 4.52845024e+07,\n",
       "        6.02460032e+07, 7.52075040e+07, 9.01690048e+07, 1.05130506e+08,\n",
       "        1.20092006e+08, 1.35053507e+08, 1.50015008e+08]),\n",
       " <a list of 10 Patch objects>)"
      ]
     },
     "execution_count": 179,
     "metadata": {},
     "output_type": "execute_result"
    },
    {
     "data": {
      "image/png": "[encoded data removed]",
      "text/plain": [
       "<Figure size 432x288 with 1 Axes>"
      ]
     },
     "metadata": {
      "needs_background": "light"
     },
     "output_type": "display_data"
    }
   ],
   "source": [
    "import matplotlib.pyplot as plt\n",
    "plt.hist(train['target']) #한쪽으로 치우쳐져 있음"
   ]
  },
  {
   "cell_type": "code",
   "execution_count": 180,
   "id": "violent-reflection",
   "metadata": {},
   "outputs": [
    {
     "data": {
      "text/plain": [
       "{'whiskers': [<matplotlib.lines.Line2D at 0x258d5c128e0>,\n",
       "  <matplotlib.lines.Line2D at 0x258d5c12c40>],\n",
       " 'caps': [<matplotlib.lines.Line2D at 0x258d5c12fa0>,\n",
       "  <matplotlib.lines.Line2D at 0x258d5c1b370>],\n",
       " 'boxes': [<matplotlib.lines.Line2D at 0x258d5c12580>],\n",
       " 'medians': [<matplotlib.lines.Line2D at 0x258d5c1b6d0>],\n",
       " 'fliers': [<matplotlib.lines.Line2D at 0x258d5c1b9d0>],\n",
       " 'means': []}"
      ]
     },
     "execution_count": 180,
     "metadata": {},
     "output_type": "execute_result"
    },
    {
     "data": {
      "image/png": "[encoded data removed]",
      "text/plain": [
       "<Figure size 432x288 with 1 Axes>"
      ]
     },
     "metadata": {
      "needs_background": "light"
     },
     "output_type": "display_data"
    }
   ],
   "source": [
    "plt.boxplot(train['target'])"
   ]
  },
  {
   "cell_type": "code",
   "execution_count": 181,
   "id": "forbidden-recognition",
   "metadata": {},
   "outputs": [
    {
     "name": "stdout",
     "output_type": "stream",
     "text": [
      "큰 이상치: 84\n",
      "작은 이상치: 0\n"
     ]
    }
   ],
   "source": [
    "IQR=abs(train['target'].quantile(0.75)-train['target'].quantile(0.25))\n",
    "print('큰 이상치:',len(train[train['target']>(train['target'].quantile(0.75)+(1.5*IQR))]))\n",
    "print('작은 이상치:',len(train[train['target']<(train['target'].quantile(0.25)-(1.5*IQR))]))\n",
    "#제거대상"
   ]
  },
  {
   "cell_type": "code",
   "execution_count": null,
   "id": "statewide-finnish",
   "metadata": {},
   "outputs": [],
   "source": []
  },
  {
   "cell_type": "code",
   "execution_count": 182,
   "id": "analyzed-check",
   "metadata": {},
   "outputs": [],
   "source": [
    "train=train[train['target']<(train['target'].quantile(0.75)+(1.5*IQR))]"
   ]
  },
  {
   "cell_type": "code",
   "execution_count": 183,
   "id": "tough-extraction",
   "metadata": {},
   "outputs": [],
   "source": [
    "train.to_csv('train1.csv',index=False)\n",
    "test.to_csv('test1.csv',index=False)"
   ]
  },
  {
   "cell_type": "code",
   "execution_count": 184,
   "id": "accepted-affair",
   "metadata": {},
   "outputs": [
    {
     "data": {
      "text/html": [
       "<div>\n",
       "<style scoped>\n",
       "    .dataframe tbody tr th:only-of-type {\n",
       "        vertical-align: middle;\n",
       "    }\n",
       "\n",
       "    .dataframe tbody tr th {\n",
       "        vertical-align: top;\n",
       "    }\n",
       "\n",
       "    .dataframe thead th {\n",
       "        text-align: right;\n",
       "    }\n",
       "</style>\n",
       "<table border=\"1\" class=\"dataframe\">\n",
       "  <thead>\n",
       "    <tr style=\"text-align: right;\">\n",
       "      <th></th>\n",
       "      <th>id</th>\n",
       "      <th>title</th>\n",
       "      <th>location</th>\n",
       "      <th>isimported</th>\n",
       "      <th>engine</th>\n",
       "      <th>transmission</th>\n",
       "      <th>fuel</th>\n",
       "      <th>paint</th>\n",
       "      <th>year</th>\n",
       "      <th>target</th>\n",
       "      <th>comp</th>\n",
       "      <th>odometer_level</th>\n",
       "    </tr>\n",
       "  </thead>\n",
       "  <tbody>\n",
       "    <tr>\n",
       "      <th>0</th>\n",
       "      <td>0</td>\n",
       "      <td>Toyota RAV 4</td>\n",
       "      <td>Lagos</td>\n",
       "      <td>Foreign Used</td>\n",
       "      <td>4-cylinder(I4)</td>\n",
       "      <td>automatic</td>\n",
       "      <td>petrol</td>\n",
       "      <td>red</td>\n",
       "      <td>2016</td>\n",
       "      <td>13665000</td>\n",
       "      <td>Toyota</td>\n",
       "      <td>1</td>\n",
       "    </tr>\n",
       "    <tr>\n",
       "      <th>2</th>\n",
       "      <td>2</td>\n",
       "      <td>Land Rover Range Rover Evoque</td>\n",
       "      <td>Lagos</td>\n",
       "      <td>Foreign Used</td>\n",
       "      <td>6-cylinder(V6)</td>\n",
       "      <td>automatic</td>\n",
       "      <td>petrol</td>\n",
       "      <td>red</td>\n",
       "      <td>2012</td>\n",
       "      <td>9915000</td>\n",
       "      <td>Land</td>\n",
       "      <td>2</td>\n",
       "    </tr>\n",
       "    <tr>\n",
       "      <th>3</th>\n",
       "      <td>3</td>\n",
       "      <td>Lexus ES 350</td>\n",
       "      <td>Lagos</td>\n",
       "      <td>Foreign Used</td>\n",
       "      <td>4-cylinder(I4)</td>\n",
       "      <td>automatic</td>\n",
       "      <td>petrol</td>\n",
       "      <td>gray</td>\n",
       "      <td>2007</td>\n",
       "      <td>3815000</td>\n",
       "      <td>Lexus</td>\n",
       "      <td>2</td>\n",
       "    </tr>\n",
       "    <tr>\n",
       "      <th>4</th>\n",
       "      <td>4</td>\n",
       "      <td>Toyota Venza</td>\n",
       "      <td>Lagos</td>\n",
       "      <td>Foreign Used</td>\n",
       "      <td>6-cylinder(V6)</td>\n",
       "      <td>automatic</td>\n",
       "      <td>petrol</td>\n",
       "      <td>red</td>\n",
       "      <td>2010</td>\n",
       "      <td>7385000</td>\n",
       "      <td>Toyota</td>\n",
       "      <td>3</td>\n",
       "    </tr>\n",
       "    <tr>\n",
       "      <th>5</th>\n",
       "      <td>5</td>\n",
       "      <td>Toyota Corolla</td>\n",
       "      <td>Abuja</td>\n",
       "      <td>Locally used</td>\n",
       "      <td>4-cylinder(I4)</td>\n",
       "      <td>automatic</td>\n",
       "      <td>petrol</td>\n",
       "      <td>white</td>\n",
       "      <td>2004</td>\n",
       "      <td>1465000</td>\n",
       "      <td>Toyota</td>\n",
       "      <td>4</td>\n",
       "    </tr>\n",
       "    <tr>\n",
       "      <th>...</th>\n",
       "      <td>...</td>\n",
       "      <td>...</td>\n",
       "      <td>...</td>\n",
       "      <td>...</td>\n",
       "      <td>...</td>\n",
       "      <td>...</td>\n",
       "      <td>...</td>\n",
       "      <td>...</td>\n",
       "      <td>...</td>\n",
       "      <td>...</td>\n",
       "      <td>...</td>\n",
       "      <td>...</td>\n",
       "    </tr>\n",
       "    <tr>\n",
       "      <th>1010</th>\n",
       "      <td>1010</td>\n",
       "      <td>Toyota Corolla</td>\n",
       "      <td>Lagos</td>\n",
       "      <td>Foreign Used</td>\n",
       "      <td>4-cylinder(I4)</td>\n",
       "      <td>automatic</td>\n",
       "      <td>petrol</td>\n",
       "      <td>black</td>\n",
       "      <td>2014</td>\n",
       "      <td>5415000</td>\n",
       "      <td>Toyota</td>\n",
       "      <td>1</td>\n",
       "    </tr>\n",
       "    <tr>\n",
       "      <th>1011</th>\n",
       "      <td>1011</td>\n",
       "      <td>Toyota Camry</td>\n",
       "      <td>Abuja</td>\n",
       "      <td>Foreign Used</td>\n",
       "      <td>4-cylinder(I4)</td>\n",
       "      <td>automatic</td>\n",
       "      <td>petrol</td>\n",
       "      <td>silver</td>\n",
       "      <td>2011</td>\n",
       "      <td>3615000</td>\n",
       "      <td>Toyota</td>\n",
       "      <td>1</td>\n",
       "    </tr>\n",
       "    <tr>\n",
       "      <th>1012</th>\n",
       "      <td>1012</td>\n",
       "      <td>Toyota Camry</td>\n",
       "      <td>Abuja</td>\n",
       "      <td>Foreign Used</td>\n",
       "      <td>4-cylinder(I4)</td>\n",
       "      <td>automatic</td>\n",
       "      <td>petrol</td>\n",
       "      <td>black</td>\n",
       "      <td>2011</td>\n",
       "      <td>3415000</td>\n",
       "      <td>Toyota</td>\n",
       "      <td>3</td>\n",
       "    </tr>\n",
       "    <tr>\n",
       "      <th>1013</th>\n",
       "      <td>1013</td>\n",
       "      <td>Lexus GX 460</td>\n",
       "      <td>Lagos</td>\n",
       "      <td>Foreign Used</td>\n",
       "      <td>6-cylinder(V6)</td>\n",
       "      <td>automatic</td>\n",
       "      <td>petrol</td>\n",
       "      <td>gold</td>\n",
       "      <td>2013</td>\n",
       "      <td>14315000</td>\n",
       "      <td>Lexus</td>\n",
       "      <td>4</td>\n",
       "    </tr>\n",
       "    <tr>\n",
       "      <th>1014</th>\n",
       "      <td>1014</td>\n",
       "      <td>DAF CF</td>\n",
       "      <td>Lagos</td>\n",
       "      <td>Locally used</td>\n",
       "      <td>6-cylinder(V6)</td>\n",
       "      <td>manual</td>\n",
       "      <td>diesel</td>\n",
       "      <td>white</td>\n",
       "      <td>1998</td>\n",
       "      <td>10015000</td>\n",
       "      <td>DAF</td>\n",
       "      <td>1</td>\n",
       "    </tr>\n",
       "  </tbody>\n",
       "</table>\n",
       "<p>894 rows × 12 columns</p>\n",
       "</div>"
      ],
      "text/plain": [
       "        id                          title location    isimported  \\\n",
       "0        0                   Toyota RAV 4    Lagos  Foreign Used   \n",
       "2        2  Land Rover Range Rover Evoque    Lagos  Foreign Used   \n",
       "3        3                   Lexus ES 350    Lagos  Foreign Used   \n",
       "4        4                   Toyota Venza    Lagos  Foreign Used   \n",
       "5        5                 Toyota Corolla    Abuja  Locally used   \n",
       "...    ...                            ...      ...           ...   \n",
       "1010  1010                 Toyota Corolla    Lagos  Foreign Used   \n",
       "1011  1011                   Toyota Camry    Abuja  Foreign Used   \n",
       "1012  1012                   Toyota Camry    Abuja  Foreign Used   \n",
       "1013  1013                   Lexus GX 460    Lagos  Foreign Used   \n",
       "1014  1014                         DAF CF    Lagos  Locally used   \n",
       "\n",
       "              engine transmission    fuel   paint  year    target    comp  \\\n",
       "0     4-cylinder(I4)    automatic  petrol     red  2016  13665000  Toyota   \n",
       "2     6-cylinder(V6)    automatic  petrol     red  2012   9915000    Land   \n",
       "3     4-cylinder(I4)    automatic  petrol    gray  2007   3815000   Lexus   \n",
       "4     6-cylinder(V6)    automatic  petrol     red  2010   7385000  Toyota   \n",
       "5     4-cylinder(I4)    automatic  petrol   white  2004   1465000  Toyota   \n",
       "...              ...          ...     ...     ...   ...       ...     ...   \n",
       "1010  4-cylinder(I4)    automatic  petrol   black  2014   5415000  Toyota   \n",
       "1011  4-cylinder(I4)    automatic  petrol  silver  2011   3615000  Toyota   \n",
       "1012  4-cylinder(I4)    automatic  petrol   black  2011   3415000  Toyota   \n",
       "1013  6-cylinder(V6)    automatic  petrol    gold  2013  14315000   Lexus   \n",
       "1014  6-cylinder(V6)       manual  diesel   white  1998  10015000     DAF   \n",
       "\n",
       "     odometer_level  \n",
       "0                 1  \n",
       "2                 2  \n",
       "3                 2  \n",
       "4                 3  \n",
       "5                 4  \n",
       "...             ...  \n",
       "1010              1  \n",
       "1011              1  \n",
       "1012              3  \n",
       "1013              4  \n",
       "1014              1  \n",
       "\n",
       "[894 rows x 12 columns]"
      ]
     },
     "execution_count": 184,
     "metadata": {},
     "output_type": "execute_result"
    }
   ],
   "source": [
    "train"
   ]
  },
  {
   "cell_type": "code",
   "execution_count": null,
   "id": "upset-destiny",
   "metadata": {},
   "outputs": [],
   "source": []
  },
  {
   "cell_type": "code",
   "execution_count": null,
   "id": "military-buyer",
   "metadata": {},
   "outputs": [],
   "source": []
  },
  {
   "cell_type": "code",
   "execution_count": null,
   "id": "european-housing",
   "metadata": {},
   "outputs": [],
   "source": []
  },
  {
   "cell_type": "code",
   "execution_count": null,
   "id": "loved-panama",
   "metadata": {},
   "outputs": [],
   "source": []
  },
  {
   "cell_type": "code",
   "execution_count": null,
   "id": "direct-reasoning",
   "metadata": {},
   "outputs": [],
   "source": []
  },
  {
   "cell_type": "code",
   "execution_count": null,
   "id": "blessed-ownership",
   "metadata": {},
   "outputs": [],
   "source": []
  },
  {
   "cell_type": "code",
   "execution_count": null,
   "id": "subject-toddler",
   "metadata": {},
   "outputs": [],
   "source": []
  },
  {
   "cell_type": "code",
   "execution_count": null,
   "id": "surprising-mediterranean",
   "metadata": {},
   "outputs": [],
   "source": []
  },
  {
   "cell_type": "code",
   "execution_count": null,
   "id": "hawaiian-chick",
   "metadata": {},
   "outputs": [],
   "source": []
  },
  {
   "cell_type": "code",
   "execution_count": null,
   "id": "comfortable-rebecca",
   "metadata": {},
   "outputs": [],
   "source": []
  },
  {
   "cell_type": "code",
   "execution_count": null,
   "id": "japanese-green",
   "metadata": {},
   "outputs": [],
   "source": []
  },
  {
   "cell_type": "code",
   "execution_count": null,
   "id": "senior-emission",
   "metadata": {},
   "outputs": [],
   "source": []
  },
  {
   "cell_type": "code",
   "execution_count": null,
   "id": "helpful-senior",
   "metadata": {},
   "outputs": [],
   "source": []
  },
  {
   "cell_type": "code",
   "execution_count": null,
   "id": "painted-batch",
   "metadata": {},
   "outputs": [],
   "source": []
  },
  {
   "cell_type": "code",
   "execution_count": null,
   "id": "premier-advocacy",
   "metadata": {},
   "outputs": [],
   "source": []
  },
  {
   "cell_type": "code",
   "execution_count": null,
   "id": "marine-general",
   "metadata": {},
   "outputs": [],
   "source": []
  },
  {
   "cell_type": "code",
   "execution_count": null,
   "id": "heard-employer",
   "metadata": {},
   "outputs": [],
   "source": []
  },
  {
   "cell_type": "code",
   "execution_count": null,
   "id": "norman-zealand",
   "metadata": {},
   "outputs": [],
   "source": []
  },
  {
   "cell_type": "code",
   "execution_count": null,
   "id": "alien-huntington",
   "metadata": {},
   "outputs": [],
   "source": []
  },
  {
   "cell_type": "code",
   "execution_count": null,
   "id": "individual-monkey",
   "metadata": {},
   "outputs": [],
   "source": []
  },
  {
   "cell_type": "code",
   "execution_count": null,
   "id": "congressional-ceiling",
   "metadata": {},
   "outputs": [],
   "source": []
  },
  {
   "cell_type": "code",
   "execution_count": null,
   "id": "complete-welsh",
   "metadata": {},
   "outputs": [],
   "source": []
  },
  {
   "cell_type": "code",
   "execution_count": null,
   "id": "banner-wrong",
   "metadata": {},
   "outputs": [],
   "source": []
  },
  {
   "cell_type": "code",
   "execution_count": null,
   "id": "defensive-aaron",
   "metadata": {},
   "outputs": [],
   "source": []
  },
  {
   "cell_type": "code",
   "execution_count": null,
   "id": "designing-indianapolis",
   "metadata": {},
   "outputs": [],
   "source": []
  },
  {
   "cell_type": "code",
   "execution_count": null,
   "id": "painted-answer",
   "metadata": {},
   "outputs": [],
   "source": []
  }
 ],
 "metadata": {
  "kernelspec": {
   "display_name": "Python 3",
   "language": "python",
   "name": "python3"
  },
  "language_info": {
   "codemirror_mode": {
    "name": "ipython",
    "version": 3
   },
   "file_extension": ".py",
   "mimetype": "text/x-python",
   "name": "python",
   "nbconvert_exporter": "python",
   "pygments_lexer": "ipython3",
   "version": "3.8.3"
  }
 },
 "nbformat": 4,
 "nbformat_minor": 5
}
